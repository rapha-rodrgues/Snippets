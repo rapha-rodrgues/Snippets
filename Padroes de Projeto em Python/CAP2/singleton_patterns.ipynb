{
 "cells": [
  {
   "cell_type": "code",
   "execution_count": 1,
   "id": "f4383b53-5a3a-4caa-a5d5-1267b61733c6",
   "metadata": {},
   "outputs": [],
   "source": [
    "# Creational Pattern Singleton"
   ]
  },
  {
   "cell_type": "code",
   "execution_count": 3,
   "id": "4cff65d7-76a8-4289-b3e3-08ca89231b20",
   "metadata": {},
   "outputs": [],
   "source": [
    "class Singleton(object):\n",
    "    def __new__(cls):\n",
    "        if not hasattr(cls, 'instance'):\n",
    "            cls.instance = super(Singleton, cls).__new__(cls)\n",
    "        return cls.instance"
   ]
  },
  {
   "cell_type": "code",
   "execution_count": 4,
   "id": "f36a4248-33b3-4f2b-9d0e-f4ce6f28ed93",
   "metadata": {},
   "outputs": [
    {
     "name": "stdout",
     "output_type": "stream",
     "text": [
      "Object created  <__main__.Singleton object at 0x7fd2a019b640>\n"
     ]
    }
   ],
   "source": [
    "s = Singleton()\n",
    "print(\"Object created \", s)"
   ]
  },
  {
   "cell_type": "code",
   "execution_count": 6,
   "id": "84ef226d-e11c-4c4d-8e47-67821119d064",
   "metadata": {},
   "outputs": [
    {
     "name": "stdout",
     "output_type": "stream",
     "text": [
      "Object created  <__main__.Singleton object at 0x7fd2a019b640>\n"
     ]
    }
   ],
   "source": [
    "s1 = Singleton()\n",
    "print(\"Object created \", s1)"
   ]
  },
  {
   "cell_type": "code",
   "execution_count": 7,
   "id": "47a3c864-f699-49a1-888a-4c58170ef97f",
   "metadata": {},
   "outputs": [
    {
     "data": {
      "text/plain": [
       "140542605899328"
      ]
     },
     "execution_count": 7,
     "metadata": {},
     "output_type": "execute_result"
    }
   ],
   "source": [
    "id(s)"
   ]
  },
  {
   "cell_type": "code",
   "execution_count": 8,
   "id": "c0c98d15-8d18-47ed-85be-3c06bbafbfdb",
   "metadata": {},
   "outputs": [
    {
     "data": {
      "text/plain": [
       "140542605899328"
      ]
     },
     "execution_count": 8,
     "metadata": {},
     "output_type": "execute_result"
    }
   ],
   "source": [
    "id(s1)"
   ]
  },
  {
   "cell_type": "code",
   "execution_count": 9,
   "id": "5f05e9dc-6b29-4a7d-9ff5-95df20075e7b",
   "metadata": {},
   "outputs": [
    {
     "data": {
      "text/plain": [
       "True"
      ]
     },
     "execution_count": 9,
     "metadata": {},
     "output_type": "execute_result"
    }
   ],
   "source": [
    "id(s) == id(s1)"
   ]
  },
  {
   "cell_type": "code",
   "execution_count": 11,
   "id": "c73e864e-b490-4541-9a92-0fac24ccd269",
   "metadata": {},
   "outputs": [],
   "source": [
    "# Lazy Example"
   ]
  },
  {
   "cell_type": "code",
   "execution_count": 14,
   "id": "126beb5b-5b08-4dae-96a5-17f5aa7fbc14",
   "metadata": {},
   "outputs": [],
   "source": [
    "class Singleton(object):\n",
    "    __instance = None\n",
    "    \n",
    "    def __init__(self):\n",
    "        if not Singleton.__instance:\n",
    "            print(\"__init__ method called...\")\n",
    "        else:\n",
    "            print(\"Instance already created: \", self.get_instance())\n",
    "    \n",
    "    @classmethod\n",
    "    def get_instance(cls):\n",
    "        if not cls.__instance:\n",
    "            cls.__instance = Singleton()\n",
    "        return cls.__instance\n"
   ]
  },
  {
   "cell_type": "code",
   "execution_count": 15,
   "id": "846d9afa-c2d9-4194-80ec-7b779ef2a4de",
   "metadata": {},
   "outputs": [
    {
     "name": "stdout",
     "output_type": "stream",
     "text": [
      "__init__ method called...\n"
     ]
    }
   ],
   "source": [
    "s = Singleton()"
   ]
  },
  {
   "cell_type": "code",
   "execution_count": 16,
   "id": "dc906cb9-fcfc-4415-bcf2-91696132d550",
   "metadata": {},
   "outputs": [
    {
     "name": "stdout",
     "output_type": "stream",
     "text": [
      "__init__ method called...\n",
      "Object created  <__main__.Singleton object at 0x7fd28a656f10>\n"
     ]
    }
   ],
   "source": [
    "print(\"Object created \", Singleton.get_instance())"
   ]
  },
  {
   "cell_type": "code",
   "execution_count": 17,
   "id": "fa0468e9-e86d-4ba8-bc3b-61bb4fcc60bc",
   "metadata": {},
   "outputs": [
    {
     "name": "stdout",
     "output_type": "stream",
     "text": [
      "Instance already created:  <__main__.Singleton object at 0x7fd28a656f10>\n"
     ]
    }
   ],
   "source": [
    "s1 = Singleton()"
   ]
  },
  {
   "cell_type": "code",
   "execution_count": 18,
   "id": "c265dd49-ef23-4de9-a305-fb7456351805",
   "metadata": {},
   "outputs": [],
   "source": [
    "# Singleton Monostate Pattern"
   ]
  },
  {
   "cell_type": "code",
   "execution_count": 23,
   "id": "4a92972f-5b29-4a29-92bc-dd9a5f4141a4",
   "metadata": {},
   "outputs": [],
   "source": [
    "class Borg(object):\n",
    "    __shared_state = {\"foo\": \"bar\"}\n",
    "\n",
    "    def __init__(self):\n",
    "        self.bubbaloo = \"anything\"\n",
    "        self.__dict__ = self.__shared_state"
   ]
  },
  {
   "cell_type": "code",
   "execution_count": 24,
   "id": "a54bd2cd-3792-4a36-a26e-05be2a66a4c3",
   "metadata": {},
   "outputs": [],
   "source": [
    "b1 = Borg()\n",
    "b2 = Borg()\n",
    "b1.bubbaloo = \"another\""
   ]
  },
  {
   "cell_type": "code",
   "execution_count": 29,
   "id": "be2a1da8-f6a2-4aae-9e51-adc104ba9c72",
   "metadata": {},
   "outputs": [
    {
     "name": "stdout",
     "output_type": "stream",
     "text": [
      "Borg Object 'b1':  <__main__.Borg object at 0x7fd2a0193910>\n",
      "Borg Object 'b2':  <__main__.Borg object at 0x7fd2a019bcd0>\n"
     ]
    }
   ],
   "source": [
    "print(\"Borg Object 'b1': \", b1)\n",
    "print(\"Borg Object 'b2': \", b2)"
   ]
  },
  {
   "cell_type": "code",
   "execution_count": 30,
   "id": "f0f4d843-2cc0-4d6c-a1d1-9fdda525149f",
   "metadata": {},
   "outputs": [
    {
     "name": "stdout",
     "output_type": "stream",
     "text": [
      "Object State 'b1':  {'foo': 'bar', 'bubbaloo': 'another'}\n",
      "Object State 'b2':  {'foo': 'bar', 'bubbaloo': 'another'}\n"
     ]
    }
   ],
   "source": [
    "print(\"Object State 'b1': \", b1.__dict__)\n",
    "print(\"Object State 'b2': \", b2.__dict__)"
   ]
  },
  {
   "cell_type": "code",
   "execution_count": 31,
   "id": "d54e3d68-29ec-43be-be04-a2434b8b2362",
   "metadata": {},
   "outputs": [],
   "source": [
    "# Singleton Monostate Pattern - Example 2"
   ]
  },
  {
   "cell_type": "code",
   "execution_count": 32,
   "id": "b33b0e4d-0d6b-47f5-a3cf-d41fc853c32d",
   "metadata": {},
   "outputs": [],
   "source": [
    "class Borg(object):\n",
    "    __shared_state = {}\n",
    "\n",
    "    def __new__(cls, *args, **kwargs):\n",
    "        obj = super(Borg, cls).__new__(cls, *args, **kwargs)\n",
    "        obj.__dict__ = cls.__shared_state\n",
    "        return obj"
   ]
  },
  {
   "cell_type": "code",
   "execution_count": 35,
   "id": "3b38e6c3-0329-4013-be33-f0296d078769",
   "metadata": {},
   "outputs": [],
   "source": [
    "b1 = Borg()\n",
    "b2 = Borg()\n",
    "b1.bubbaloo = \"another\""
   ]
  },
  {
   "cell_type": "code",
   "execution_count": 36,
   "id": "8235d8e6-2a5a-422c-8859-8af1179ca756",
   "metadata": {},
   "outputs": [
    {
     "name": "stdout",
     "output_type": "stream",
     "text": [
      "Borg Object 'b1':  <__main__.Borg object at 0x7fd2a017e460>\n",
      "Borg Object 'b2':  <__main__.Borg object at 0x7fd2a019bd90>\n"
     ]
    }
   ],
   "source": [
    "print(\"Borg Object 'b1': \", b1)\n",
    "print(\"Borg Object 'b2': \", b2)"
   ]
  },
  {
   "cell_type": "code",
   "execution_count": 37,
   "id": "510d818b-c1fa-43dd-be07-2adc7be2325f",
   "metadata": {},
   "outputs": [
    {
     "name": "stdout",
     "output_type": "stream",
     "text": [
      "Object State 'b1':  {'bubbaloo': 'another'}\n",
      "Object State 'b2':  {'bubbaloo': 'another'}\n"
     ]
    }
   ],
   "source": [
    "print(\"Object State 'b1': \", b1.__dict__)\n",
    "print(\"Object State 'b2': \", b2.__dict__)"
   ]
  },
  {
   "cell_type": "code",
   "execution_count": null,
   "id": "ad28bf83-f341-4159-b8ef-a11d23312da8",
   "metadata": {},
   "outputs": [],
   "source": []
  }
 ],
 "metadata": {
  "kernelspec": {
   "display_name": "Python 3 (ipykernel)",
   "language": "python",
   "name": "python3"
  },
  "language_info": {
   "codemirror_mode": {
    "name": "ipython",
    "version": 3
   },
   "file_extension": ".py",
   "mimetype": "text/x-python",
   "name": "python",
   "nbconvert_exporter": "python",
   "pygments_lexer": "ipython3",
   "version": "3.9.12"
  }
 },
 "nbformat": 4,
 "nbformat_minor": 5
}
