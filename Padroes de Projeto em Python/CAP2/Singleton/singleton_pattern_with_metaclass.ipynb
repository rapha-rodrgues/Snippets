{
 "cells": [
  {
   "cell_type": "code",
   "execution_count": 1,
   "id": "46fdfed4-4af0-4c4d-a8ee-3fb3ed145da2",
   "metadata": {},
   "outputs": [],
   "source": [
    "# Metaclass"
   ]
  },
  {
   "cell_type": "code",
   "execution_count": 2,
   "id": "62ff7a48-8f2a-4acc-8d7d-d86df58df7b8",
   "metadata": {},
   "outputs": [],
   "source": [
    "class MyInt(type):\n",
    "    def __call__(cls, *args, **kwargs):\n",
    "        print(\"***** Here's My Int *****\", args)\n",
    "        print(\"Now do whatever you want with these objects...\")\n",
    "        return type.__call__(cls, *args, **kwargs)"
   ]
  },
  {
   "cell_type": "code",
   "execution_count": 3,
   "id": "e49fa80e-091a-4812-895c-3154e7e3864e",
   "metadata": {},
   "outputs": [],
   "source": [
    "class int(metaclass=MyInt):\n",
    "    def __init__(self, x, y):\n",
    "        self.x = x\n",
    "        self.y = y"
   ]
  },
  {
   "cell_type": "code",
   "execution_count": 4,
   "id": "9f3593aa-ca2e-47dd-87bd-4957896e5eaf",
   "metadata": {},
   "outputs": [
    {
     "name": "stdout",
     "output_type": "stream",
     "text": [
      "***** Here's My Int ***** (4, 5)\n",
      "Now do whatever you want with these objects...\n"
     ]
    }
   ],
   "source": [
    "i = int(4, 5)"
   ]
  },
  {
   "cell_type": "code",
   "execution_count": 11,
   "id": "79b0fc69-9184-4a2c-b877-94a7b9e5f90a",
   "metadata": {},
   "outputs": [],
   "source": [
    "class MetaSingleton(type):\n",
    "    _instances = {}\n",
    "    def __call__(cls, *args, **kwargs):\n",
    "        if cls not in cls._instances:\n",
    "            cls._instances[cls] = super(MetaSingleton, cls).__call__(*args, **kwargs)\n",
    "        return cls._instances[cls]\n",
    "\n",
    "class Logger(metaclass=MetaSingleton):\n",
    "    pass"
   ]
  },
  {
   "cell_type": "code",
   "execution_count": 12,
   "id": "ae06ae13-805b-4911-98e5-9ac7ab11d65e",
   "metadata": {},
   "outputs": [],
   "source": [
    "logger1 = Logger()\n",
    "logger2 = Logger()"
   ]
  },
  {
   "cell_type": "code",
   "execution_count": 13,
   "id": "6de49cc1-1f05-41dd-8af3-2bf387f531c3",
   "metadata": {},
   "outputs": [
    {
     "name": "stdout",
     "output_type": "stream",
     "text": [
      "<__main__.Logger object at 0x7f0fe4e7edc0>\n",
      "<__main__.Logger object at 0x7f0fe4e7edc0>\n"
     ]
    }
   ],
   "source": [
    "print(logger1)\n",
    "print(logger2)"
   ]
  },
  {
   "cell_type": "code",
   "execution_count": null,
   "id": "898e9826-8ea2-4f21-a23b-7ef52c24d23a",
   "metadata": {},
   "outputs": [],
   "source": []
  }
 ],
 "metadata": {
  "kernelspec": {
   "display_name": "Python 3 (ipykernel)",
   "language": "python",
   "name": "python3"
  },
  "language_info": {
   "codemirror_mode": {
    "name": "ipython",
    "version": 3
   },
   "file_extension": ".py",
   "mimetype": "text/x-python",
   "name": "python",
   "nbconvert_exporter": "python",
   "pygments_lexer": "ipython3",
   "version": "3.9.12"
  }
 },
 "nbformat": 4,
 "nbformat_minor": 5
}
