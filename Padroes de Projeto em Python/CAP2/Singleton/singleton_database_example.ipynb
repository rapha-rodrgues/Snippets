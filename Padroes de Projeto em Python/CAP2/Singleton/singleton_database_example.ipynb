{
 "cells": [
  {
   "cell_type": "code",
   "execution_count": 1,
   "id": "3ba6e642-d6a9-4183-97bb-f6588b861814",
   "metadata": {},
   "outputs": [],
   "source": [
    "# Singleton Database Example"
   ]
  },
  {
   "cell_type": "code",
   "execution_count": 2,
   "id": "ff8090e6-589d-4a59-85cf-5cef4d5d340f",
   "metadata": {},
   "outputs": [],
   "source": [
    "import sqlite3"
   ]
  },
  {
   "cell_type": "code",
   "execution_count": 14,
   "id": "36632016-6e26-4d47-adbf-837212069a86",
   "metadata": {},
   "outputs": [],
   "source": [
    "class MetaSingleton(type):\n",
    "    _instaces = {}\n",
    "\n",
    "    def __call__(cls, *args, **kwargs):\n",
    "        if cls not in cls._instaces:\n",
    "            cls._instaces[cls] = super(\n",
    "                MetaSingleton, cls).__call__(*args, **kwargs)\n",
    "        return cls._instaces[cls]"
   ]
  },
  {
   "cell_type": "code",
   "execution_count": 15,
   "id": "fb131348-ea63-419a-b88f-29fe462a71bc",
   "metadata": {},
   "outputs": [],
   "source": [
    "class Database(metaclass=MetaSingleton):\n",
    "    connection = None\n",
    "\n",
    "    def connect(self):\n",
    "        if self.connection is None:\n",
    "            self.connection = sqlite3.connect(\"db.sqlite3\")\n",
    "            self.cursorobj = self.connection.cursor()\n",
    "        return self.cursorobj"
   ]
  },
  {
   "cell_type": "code",
   "execution_count": 16,
   "id": "7d3a5fe3-b0cf-4fb3-a9f3-8ab46e2b924e",
   "metadata": {},
   "outputs": [],
   "source": [
    "db1 = Database().connect()\n",
    "db2 = Database().connect()"
   ]
  },
  {
   "cell_type": "code",
   "execution_count": 17,
   "id": "02a3ae7a-2bf0-4836-abaa-e681a91be309",
   "metadata": {},
   "outputs": [
    {
     "name": "stdout",
     "output_type": "stream",
     "text": [
      "Database Object db1:  <sqlite3.Cursor object at 0x7fa548a58810>\n",
      "Database Object db2:  <sqlite3.Cursor object at 0x7fa548a58810>\n"
     ]
    }
   ],
   "source": [
    "print(\"Database Object db1: \", db1)\n",
    "print(\"Database Object db2: \", db2)"
   ]
  },
  {
   "cell_type": "code",
   "execution_count": null,
   "id": "dcca0698-3ed1-4471-940c-a525f75b011f",
   "metadata": {},
   "outputs": [],
   "source": []
  }
 ],
 "metadata": {
  "kernelspec": {
   "display_name": "Python 3 (ipykernel)",
   "language": "python",
   "name": "python3"
  },
  "language_info": {
   "codemirror_mode": {
    "name": "ipython",
    "version": 3
   },
   "file_extension": ".py",
   "mimetype": "text/x-python",
   "name": "python",
   "nbconvert_exporter": "python",
   "pygments_lexer": "ipython3",
   "version": "3.9.12"
  }
 },
 "nbformat": 4,
 "nbformat_minor": 5
}
