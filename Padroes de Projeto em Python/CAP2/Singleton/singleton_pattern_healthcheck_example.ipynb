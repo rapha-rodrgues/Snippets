{
 "cells": [
  {
   "cell_type": "code",
   "execution_count": 1,
   "id": "936fa666-a13c-417e-bd7b-ce9318ea59ec",
   "metadata": {},
   "outputs": [],
   "source": [
    "# Singleton Healthcheck"
   ]
  },
  {
   "cell_type": "code",
   "execution_count": 8,
   "id": "0fa6f185-ab39-4582-bb1f-cf5447367b63",
   "metadata": {},
   "outputs": [],
   "source": [
    "class HealthCheck:\n",
    "    _instance = None\n",
    "\n",
    "    def __new__(cls, *args, **kwargs):\n",
    "        if not HealthCheck._instance:\n",
    "            HealthCheck._instance = super(\n",
    "                HealthCheck, cls).__new__(cls, *args, **kwargs)\n",
    "        return HealthCheck._instance\n",
    "\n",
    "    def __init__(self):\n",
    "        self._servers = []\n",
    "\n",
    "    def add_server(self):\n",
    "        self._servers.append(\"Server 1\")\n",
    "        self._servers.append(\"Server 2\")\n",
    "        self._servers.append(\"Server 3\")\n",
    "        self._servers.append(\"Server 4\")\n",
    "\n",
    "    def change_server(self):\n",
    "        self._servers.pop()\n",
    "        self._servers.append(\"Server 5\")"
   ]
  },
  {
   "cell_type": "code",
   "execution_count": 9,
   "id": "40b84fb6-27bd-465f-b87c-faff267761b1",
   "metadata": {},
   "outputs": [],
   "source": [
    "hc1 = HealthCheck()\n",
    "hc2 = HealthCheck()"
   ]
  },
  {
   "cell_type": "code",
   "execution_count": 10,
   "id": "c57037cf-ec33-4efb-9a4f-d398e478a2ef",
   "metadata": {},
   "outputs": [],
   "source": [
    "hc1.add_server()"
   ]
  },
  {
   "cell_type": "code",
   "execution_count": 11,
   "id": "2d0bbb4f-3211-4742-9e69-6d33339f7dac",
   "metadata": {},
   "outputs": [
    {
     "name": "stdout",
     "output_type": "stream",
     "text": [
      "Schedule health check for servers(1)...\n"
     ]
    }
   ],
   "source": [
    "print(\"Schedule health check for servers(1)...\")"
   ]
  },
  {
   "cell_type": "code",
   "execution_count": 12,
   "id": "9e024262-5c31-450e-ba22-cede567c509c",
   "metadata": {},
   "outputs": [
    {
     "name": "stdout",
     "output_type": "stream",
     "text": [
      "Checking...  Server 1\n",
      "Checking...  Server 2\n",
      "Checking...  Server 3\n",
      "Checking...  Server 4\n"
     ]
    }
   ],
   "source": [
    "for i in range(4):\n",
    "    print(\"Checking... \", hc1._servers[i])"
   ]
  },
  {
   "cell_type": "code",
   "execution_count": 13,
   "id": "f55d62ab-c4b6-4ddb-9ed4-c377e2e4e0a9",
   "metadata": {},
   "outputs": [],
   "source": [
    "hc2.change_server()"
   ]
  },
  {
   "cell_type": "code",
   "execution_count": 14,
   "id": "5f3d255a-4f7e-48f0-885f-e6c039b82dee",
   "metadata": {},
   "outputs": [
    {
     "name": "stdout",
     "output_type": "stream",
     "text": [
      "Schedule health check for servers(2)...\n"
     ]
    }
   ],
   "source": [
    "print(\"Schedule health check for servers(2)...\")"
   ]
  },
  {
   "cell_type": "code",
   "execution_count": 15,
   "id": "b1588809-ef22-42ce-a1c4-0134d677fd20",
   "metadata": {},
   "outputs": [
    {
     "name": "stdout",
     "output_type": "stream",
     "text": [
      "Checking...  Server 1\n",
      "Checking...  Server 2\n",
      "Checking...  Server 3\n",
      "Checking...  Server 5\n"
     ]
    }
   ],
   "source": [
    "for i in range(4):\n",
    "    print(\"Checking... \", hc2._servers[i])"
   ]
  },
  {
   "cell_type": "code",
   "execution_count": null,
   "id": "ad5ce48f-b9a5-4943-b3ab-5ea62861e0ff",
   "metadata": {},
   "outputs": [],
   "source": []
  }
 ],
 "metadata": {
  "kernelspec": {
   "display_name": "Python 3 (ipykernel)",
   "language": "python",
   "name": "python3"
  },
  "language_info": {
   "codemirror_mode": {
    "name": "ipython",
    "version": 3
   },
   "file_extension": ".py",
   "mimetype": "text/x-python",
   "name": "python",
   "nbconvert_exporter": "python",
   "pygments_lexer": "ipython3",
   "version": "3.9.12"
  }
 },
 "nbformat": 4,
 "nbformat_minor": 5
}
